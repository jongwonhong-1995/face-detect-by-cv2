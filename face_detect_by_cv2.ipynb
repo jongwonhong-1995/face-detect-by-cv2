{
 "cells": [
  {
   "cell_type": "code",
   "execution_count": null,
   "id": "fd85545f",
   "metadata": {},
   "outputs": [],
   "source": [
    "!pip install opencv-python"
   ]
  },
  {
   "cell_type": "code",
   "execution_count": null,
   "id": "1e8a545e",
   "metadata": {},
   "outputs": [],
   "source": [
    "import cv2, dlib, sys\n",
    "import numpy as np"
   ]
  },
  {
   "cell_type": "code",
   "execution_count": null,
   "id": "ab160857",
   "metadata": {
    "scrolled": true
   },
   "outputs": [],
   "source": [
    "cd Desktop"
   ]
  },
  {
   "cell_type": "code",
   "execution_count": null,
   "id": "121c7db7",
   "metadata": {},
   "outputs": [],
   "source": [
    "scaler = 0.2"
   ]
  },
  {
   "cell_type": "code",
   "execution_count": null,
   "id": "8f9ee3df",
   "metadata": {},
   "outputs": [],
   "source": [
    "detector = dlib.get_frontal_face_detector()\n",
    "predictor = dlib.shape_predictor('shape_predictor_68_face_landmarks.dat')"
   ]
  },
  {
   "cell_type": "code",
   "execution_count": null,
   "id": "b14e2d34",
   "metadata": {},
   "outputs": [],
   "source": [
    "# load video\n",
    "cap = cv2.VideoCapture('video.mp4')\n",
    "\n",
    "#load overlay image\n",
    "overlay = cv2.imread('mao.png', cv2.IMREAD_UNCHANGED)"
   ]
  },
  {
   "cell_type": "code",
   "execution_count": null,
   "id": "2872313c",
   "metadata": {},
   "outputs": [],
   "source": [
    "#loop\n",
    "\n",
    "while True:\n",
    "    ret, img = cap.read()\n",
    "    if not ret:\n",
    "        break\n",
    "        \n",
    "    ori = img.copy()\n",
    "    img = cv2.resize(img, (int(img.shape[1] * scaler), int(img.shape[0] * scaler)))\n",
    "    \n",
    "    # detect face\n",
    "    faces = detector(img)\n",
    "    face = faces[0]\n",
    "    \n",
    "    dlib_shape = predictor(img, face)\n",
    "    shape_2d = np.array([[p.x, p.y] for p in dlib_shape.parts()])\n",
    "    \n",
    "    #compute center of face\n",
    "    top_left = np.min(shape_2d, axis=0)\n",
    "    bottom_right = np.max(shape_2d, axis = 0)\n",
    "    \n",
    "    face_size = max(bottom_right - top_left) * 1.7\n",
    "    \n",
    "    center_x, center_y = np.mean(shape_2d, axis = 0).astype(np.int64)\n",
    "    \n",
    "    #visualize\n",
    "    img = cv2.rectangle(img, pt1 = (face.left(), face.top()), pt2 = (face.right(), face.bottom()), color = (255,255,255), \n",
    "                        thickness = 2, lineType = cv2.LINE_AA)\n",
    "    \n",
    "    for s in shape_2d:\n",
    "        cv2.circle(img, center = tuple(s), radius = 1, color = (255,255,255), thickness = 2, lineType = cv2.LINE_AA)\n",
    "        \n",
    "    cv2.circle(img, center = tuple(top_left), radius = 1, color = (255, 0, 0), thickness = 2, lineType = cv2.LINE_AA)\n",
    "    cv2.circle(img, center = tuple(bottom_right), radius = 1, color = (255, 0, 0), thickness = 2, lineType = cv2.LINE_AA)\n",
    "    cv2.circle(img, center = tuple((center_x, center_y)), radius = 1, color = (255, 0, 0), thickness = 2, lineType = cv2.LINE_AA)\n",
    "        \n",
    "    cv2.imshow('img',img)\n",
    "    cv2.waitKey(1)"
   ]
  }
 ],
 "metadata": {
  "kernelspec": {
   "display_name": "Python 3",
   "language": "python",
   "name": "python3"
  },
  "language_info": {
   "codemirror_mode": {
    "name": "ipython",
    "version": 3
   },
   "file_extension": ".py",
   "mimetype": "text/x-python",
   "name": "python",
   "nbconvert_exporter": "python",
   "pygments_lexer": "ipython3",
   "version": "3.8.10"
  }
 },
 "nbformat": 4,
 "nbformat_minor": 5
}
